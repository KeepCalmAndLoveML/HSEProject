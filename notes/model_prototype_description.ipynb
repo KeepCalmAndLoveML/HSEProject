{
 "cells": [
  {
   "cell_type": "markdown",
   "metadata": {},
   "source": [
    "# Математическая модель для бота стилиста\n",
    "\n",
    "В этой тетради будет краткое описание мат. модели для <a href=https://github.com/KeepCalmAndLoveML/HSEProject> моего ИВР</a>, а также прототип (совсем простой) на Питоне"
   ]
  },
  {
   "cell_type": "markdown",
   "metadata": {},
   "source": [
    "### Базовая концепция\n",
    "\n",
    "*Все значения могут быть разными в засимости от выбранного пола.*\n",
    "\n",
    "Введём определения.\n",
    "Пусть рекомендация $r, r \\in [0; 5]$ - это число, которое определяет, насколько человеку подходит та или иная вещь (чем больше $r$, тем более вещь подходит).\n",
    "\n",
    "Пусть $k = const$ - количество различных вещей, которые может порекомендовать бот.\n",
    "\n",
    "Тогда результатом работы модели будет какое-то $R = \\{r_1, r_2, ..., r_k\\}$, где $r_i$ - рекомендация для i-той вещи.\n",
    "\n",
    "\n",
    "Пусть $n = const$ - количество вводимых пользователем значений.\n",
    "Пусть $V(i), i \\le n, i \\in \\Bbb N$ - функция, которая возвращает i-тое введёное пользователем значение\n",
    "\n",
    "Пусть параметр $P_i(x) = \\{r_1, r_2, ..., r_k\\}, i \\le n, i \\in \\Bbb N$ - это функция, которая принимает i-тое по порядку значение, введёное пользователем, а возвращает вектор рекомендациий.\n",
    "$P_i$ скорее всего будет задана, как кусочная функция\n",
    "\n",
    "Пусть $W = \\{w_1, w_2, ..., w_n\\}$ - веса параметров.\n",
    "\n",
    "Тогда $R$ можно посчитать по следующей формуле\n",
    "$$ R = \\frac{\\sum_{i=0}^n P_i(V(i)) * w_i}{\\sum_{i=0}^n w_i}$$\n",
    "\n",
    "Таким образом, R - это средневзвешенное значение параметров и их весов"
   ]
  },
  {
   "cell_type": "markdown",
   "metadata": {},
   "source": [
    "### Делаем математические рекомендации понятными для пользователя\n",
    "\n",
    "Пусть $t = const$.\n",
    "\n",
    "Считается, что i-тая вещь *подходит* человеку, если $R_i \\ge t$"
   ]
  },
  {
   "cell_type": "markdown",
   "metadata": {
    "collapsed": true
   },
   "source": [
    "### Возможные улучшения\n",
    "\n",
    "Одно из введёных пользователем значений будет \"Тип фигуры\". Это самое важное значение, и, возможно, стоит сделать значения вектора весов зависимым от этого значения. То есть, значение весов будет функцией, которая возвращает веса для остальных параметров в зависимости от введёного пользователем \"Типа Фигуры\"."
   ]
  },
  {
   "cell_type": "markdown",
   "metadata": {},
   "source": [
    "# Прототип на Питоне\n",
    "\n",
    "Далее будет простой прототип на питоне, который проиллюстрирует математическую модель, описанную выше."
   ]
  },
  {
   "cell_type": "code",
   "execution_count": 19,
   "metadata": {
    "collapsed": true
   },
   "outputs": [],
   "source": [
    "k = 4\n",
    "clothes = ['Длинное платье', 'Короткое платье', 'Юбка', 'Кожаная куртка']\n",
    "\n",
    "n = 3\n",
    "t = 2.5\n",
    "\n",
    "def v(idx):\n",
    "    #Рост / Вес\n",
    "    if idx == 1:\n",
    "        return 170 / 90\n",
    "    \n",
    "    #Рост\n",
    "    if idx == 2:\n",
    "        return 170 \n",
    "    \n",
    "    #Тип фигуры\n",
    "    if idx == 2:\n",
    "        return 1\n",
    "    \n",
    "    #Рост / Длина ног\n",
    "    if idx == 3:\n",
    "        return 170 / 70\n",
    "    \n",
    "#Рост / Вес\n",
    "def p_1(x):\n",
    "    default = [t] * k\n",
    "    #Идеально\n",
    "    if 175 / 50 <= x <= 175 / 65:\n",
    "        return default\n",
    "    \n",
    "    #Слишком худая\n",
    "    if x <= 175 / 50:\n",
    "        return default\n",
    "    \n",
    "    #Слишком толстая\n",
    "    if x >= 175 / 65:\n",
    "        ans = list(default)\n",
    "        ans[1] = 1 #Короткое платье ОЧЕНЬ не подходит толстым людям \n",
    "        return ans\n",
    "    \n",
    "#Рост\n",
    "def p_2(x):\n",
    "    #Для заданных вещей ничего не зависит от роста\n",
    "    default = [t] * k\n",
    "    return default\n",
    "\n",
    "#Рост / Длина ног\n",
    "def p_3(x):\n",
    "    default = [t] * k\n",
    "    #Короткие ноги\n",
    "    if x < 175 / 75:\n",
    "        ans = list(default)\n",
    "        ans[1] = 2 #Короткое платье не очень подходит людям с короткими ногами\n",
    "        return ans\n",
    "    \n",
    "    return default\n",
    "\n",
    "w = [3, 1, 3]\n",
    "p = [p_1, p_2, p_3]"
   ]
  },
  {
   "cell_type": "code",
   "execution_count": 38,
   "metadata": {},
   "outputs": [
    {
     "name": "stdout",
     "output_type": "stream",
     "text": [
      "[2.5, 2.5, 2.5, 2.5]\n"
     ]
    }
   ],
   "source": [
    "\n",
    "\n",
    "r = []\n",
    "for idx in range(k):\n",
    "    up = 0\n",
    "    for i in range(n):\n",
    "        up += p[i](v(i + 1))[idx] * w[i]\n",
    "    \n",
    "    up /= sum(w)\n",
    "    r.append(up)\n",
    "    \n",
    "print(r)"
   ]
  },
  {
   "cell_type": "code",
   "execution_count": 39,
   "metadata": {},
   "outputs": [
    {
     "name": "stdout",
     "output_type": "stream",
     "text": [
      "Вам подходит Длинное платье\n",
      "Вам подходит Короткое платье\n",
      "Вам подходит Юбка\n",
      "Вам подходит Кожаная куртка\n"
     ]
    }
   ],
   "source": [
    "for k, rk in enumerate(r):\n",
    "    if rk >= t:\n",
    "        print('Вам подходит {0}'.format(clothes[k]))"
   ]
  },
  {
   "cell_type": "code",
   "execution_count": 36,
   "metadata": {},
   "outputs": [
    {
     "data": {
      "text/plain": [
       "array([[ 7.5,  7.5,  7.5,  7.5],\n",
       "       [ 2.5,  2.5,  2.5,  2.5],\n",
       "       [ 7.5,  7.5,  7.5,  7.5]])"
      ]
     },
     "execution_count": 36,
     "metadata": {},
     "output_type": "execute_result"
    }
   ],
   "source": []
  },
  {
   "cell_type": "code",
   "execution_count": null,
   "metadata": {
    "collapsed": true
   },
   "outputs": [],
   "source": []
  }
 ],
 "metadata": {
  "kernelspec": {
   "display_name": "Python 3",
   "language": "python",
   "name": "python3"
  },
  "language_info": {
   "codemirror_mode": {
    "name": "ipython",
    "version": 3
   },
   "file_extension": ".py",
   "mimetype": "text/x-python",
   "name": "python",
   "nbconvert_exporter": "python",
   "pygments_lexer": "ipython3",
   "version": "3.6.1"
  }
 },
 "nbformat": 4,
 "nbformat_minor": 2
}
